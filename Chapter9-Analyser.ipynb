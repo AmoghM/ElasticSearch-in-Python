{
 "cells": [
  {
   "cell_type": "code",
   "execution_count": null,
   "metadata": {},
   "outputs": [],
   "source": [
    "from elasticsearch import Elasticsearch\n",
    "es = Elasticsearch(host='localhost',port=9200)"
   ]
  },
  {
   "cell_type": "markdown",
   "metadata": {},
   "source": [
    "Elasticsearch doc:https://www.elastic.co/guide/en/elasticsearch/reference/current/analyzer.html\n",
    "\n",
    "Analyzers can be specified per-query, per-field or per-index.\n",
    "<br> \n",
    "<b> Types of Analysers: </b>\n",
    "* Standard Analyzer\n",
    "* Simple Analyzer\n",
    "* Whitespace Analyzer\n",
    "* Stop Analyzer\n",
    "* Keyword Analyzer\n",
    "* Pattern Analyzer\n",
    "* Language Analyzers\n",
    "* Fingerprint Analyzer"
   ]
  },
  {
   "cell_type": "markdown",
   "metadata": {},
   "source": [
    "#### NOTE ON FINGERPRINT ALGORITHM:\n",
    "It implements fingerprint algorithm which \n",
    "* remove leading and trailing whitespace\n",
    "* change all characters to their lowercase representation\n",
    "* remove all punctuation and control characters\n",
    "* normalize extended western characters to their ASCII representation (for example \"gödel\" → \"godel\")\n",
    "* split the string into whitespace-separated tokens\n",
    "* sort the tokens and remove duplicates and join the tokens back together <br>\n",
    "Hence, `Mishra Amogh` will be represented as `amogh mishra`"
   ]
  },
  {
   "cell_type": "code",
   "execution_count": null,
   "metadata": {},
   "outputs": [],
   "source": [
    "es.indices.analyze(body={\n",
    "  \"analyzer\" : \"standard\",\n",
    "  \"text\" : [\"HELLO today is A GREAT DAY\"]\n",
    "})"
   ]
  },
  {
   "cell_type": "code",
   "execution_count": 24,
   "metadata": {},
   "outputs": [
    {
     "name": "stdout",
     "output_type": "stream",
     "text": [
      "('======', 'standard', '========')\n",
      "hello\n",
      "world\n",
      "today\n",
      "is\n",
      "the\n",
      "2nd\n",
      "day\n",
      "of\n",
      "the\n",
      "week\n",
      "it\n",
      "is\n",
      "monday\n",
      "\n",
      "\n",
      "('======', 'simple', '========')\n",
      "hello\n",
      "world\n",
      "today\n",
      "is\n",
      "the\n",
      "nd\n",
      "day\n",
      "of\n",
      "the\n",
      "week\n",
      "it\n",
      "is\n",
      "monday\n",
      "\n",
      "\n",
      "('======', 'whitespace', '========')\n",
      "HELLO\n",
      "WORLD.\n",
      "Today\n",
      "is\n",
      "the\n",
      "2nd\n",
      "day\n",
      "of\n",
      "the\n",
      "week!!!!\n",
      "it\n",
      "is\n",
      "Monday.\n",
      "\n",
      "\n",
      "('======', 'stop', '========')\n",
      "hello\n",
      "world\n",
      "today\n",
      "nd\n",
      "day\n",
      "week\n",
      "monday\n",
      "\n",
      "\n",
      "('======', 'keyword', '========')\n",
      "HELLO WORLD. Today is the 2nd day of the week!!!!     it is Monday.\n",
      "\n",
      "\n",
      "('======', 'pattern', '========')\n",
      "hello\n",
      "world\n",
      "today\n",
      "is\n",
      "the\n",
      "2nd\n",
      "day\n",
      "of\n",
      "the\n",
      "week\n",
      "it\n",
      "is\n",
      "monday\n",
      "\n",
      "\n",
      "('======', 'fingerprint', '========')\n",
      "2nd day hello is it monday of the today week world\n",
      "\n",
      "\n"
     ]
    }
   ],
   "source": [
    "analyzer = ['standard','simple','whitespace','stop','keyword','pattern','fingerprint']\n",
    "\n",
    "for analyze in analyzer:\n",
    "    res = es.indices.analyze(body={\n",
    "      \"analyzer\" : analyze,\n",
    "      \"text\" : [\"HELLO WORLD. Today is the 2nd day of the week!!!!     it is Monday.\"]\n",
    "    })\n",
    "    print(\"======\",analyze,\"========\")\n",
    "    for i in res['tokens']:\n",
    "        print(i['token'])\n",
    "    print(\"\\n\")"
   ]
  },
  {
   "cell_type": "code",
   "execution_count": 32,
   "metadata": {},
   "outputs": [
    {
     "data": {
      "text/plain": [
       "{u'acknowledged': True,\n",
       " u'index': u'chapter9-analyzer',\n",
       " u'shards_acknowledged': True}"
      ]
     },
     "execution_count": 32,
     "metadata": {},
     "output_type": "execute_result"
    }
   ],
   "source": [
    "body = {\n",
    "    \"settings\": {\n",
    "        \"number_of_shards\": 1,\n",
    "        \"number_of_replicas\": 0\n",
    "    },\n",
    "    \"mappings\": {\n",
    "        \"urls\": {\n",
    "            \"properties\": {\n",
    "                \"text\": {\n",
    "                    \"type\": \"text\",\n",
    "                    \"fields\": {\n",
    "                      \"english\": { \n",
    "                        \"type\":     \"text\",\n",
    "                        \"analyzer\": \"whitespace\"\n",
    "                      }\n",
    "                    }\n",
    "                }\n",
    "            }\n",
    "        }\n",
    "     }\n",
    "}\n",
    "# create index\n",
    "es.indices.create(index=\"chapter9-analyzer\", ignore=400, body=body)\n"
   ]
  },
  {
   "cell_type": "code",
   "execution_count": 33,
   "metadata": {},
   "outputs": [
    {
     "name": "stdout",
     "output_type": "stream",
     "text": [
      "the\n",
      "quick\n",
      "brown\n",
      "foxes\n"
     ]
    }
   ],
   "source": [
    "res = es.indices.analyze(index=\"chapter9-analyzer\", body = {\n",
    "  \"field\": \"text.whitespace\",\n",
    "  \"text\": \"The quick Brown Foxes   .\"\n",
    "})\n",
    "for i in res['tokens']:\n",
    "    print(i['token'])"
   ]
  },
  {
   "cell_type": "code",
   "execution_count": 31,
   "metadata": {},
   "outputs": [
    {
     "data": {
      "text/plain": [
       "{u'acknowledged': True}"
      ]
     },
     "execution_count": 31,
     "metadata": {},
     "output_type": "execute_result"
    }
   ],
   "source": [
    "es.indices.delete(index=\"chapter9-analyzer\")"
   ]
  },
  {
   "cell_type": "code",
   "execution_count": null,
   "metadata": {},
   "outputs": [],
   "source": []
  }
 ],
 "metadata": {
  "kernelspec": {
   "display_name": "Python 2",
   "language": "python",
   "name": "python2"
  },
  "language_info": {
   "codemirror_mode": {
    "name": "ipython",
    "version": 2
   },
   "file_extension": ".py",
   "mimetype": "text/x-python",
   "name": "python",
   "nbconvert_exporter": "python",
   "pygments_lexer": "ipython2",
   "version": "2.7.10"
  }
 },
 "nbformat": 4,
 "nbformat_minor": 2
}
