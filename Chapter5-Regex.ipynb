{
 "cells": [
  {
   "cell_type": "code",
   "execution_count": 2,
   "metadata": {},
   "outputs": [],
   "source": [
    "from elasticsearch import Elasticsearch\n",
    "es = Elasticsearch(\"http://localhost:9200\")"
   ]
  },
  {
   "cell_type": "code",
   "execution_count": 3,
   "metadata": {},
   "outputs": [
    {
     "data": {
      "text/plain": [
       "{u'_id': u'1',\n",
       " u'_index': u'english',\n",
       " u'_source': {u'sentence': u'Today is a sunny day.'},\n",
       " u'_type': u'sentences',\n",
       " u'_version': 4,\n",
       " u'found': True}"
      ]
     },
     "execution_count": 3,
     "metadata": {},
     "output_type": "execute_result"
    }
   ],
   "source": [
    "es.get(index=\"english\", doc_type=\"sentences\", id=1)"
   ]
  },
  {
   "cell_type": "code",
   "execution_count": 4,
   "metadata": {},
   "outputs": [
    {
     "data": {
      "text/plain": [
       "{u'_id': u'2',\n",
       " u'_index': u'english',\n",
       " u'_source': {u'sentence': u'Today is a bright-sunny day'},\n",
       " u'_type': u'sentences',\n",
       " u'_version': 4,\n",
       " u'found': True}"
      ]
     },
     "execution_count": 4,
     "metadata": {},
     "output_type": "execute_result"
    }
   ],
   "source": [
    "es.get(index=\"english\", doc_type=\"sentences\", id=2)"
   ]
  },
  {
   "cell_type": "code",
   "execution_count": 5,
   "metadata": {},
   "outputs": [
    {
     "data": {
      "text/plain": [
       "{u'_id': u'3',\n",
       " u'_index': u'english',\n",
       " u'_source': {u'sentence': u'Today is a rainy day.'},\n",
       " u'_type': u'sentences',\n",
       " u'_version': 1,\n",
       " u'found': True}"
      ]
     },
     "execution_count": 5,
     "metadata": {},
     "output_type": "execute_result"
    }
   ],
   "source": [
    "es.get(index=\"english\", doc_type=\"sentences\", id=3)"
   ]
  },
  {
   "cell_type": "code",
   "execution_count": 32,
   "metadata": {},
   "outputs": [
    {
     "data": {
      "text/plain": [
       "{u'_shards': {u'failed': 0, u'skipped': 0, u'successful': 5, u'total': 5},\n",
       " u'hits': {u'hits': [], u'max_score': 0.0, u'total': 3},\n",
       " u'timed_out': False,\n",
       " u'took': 3}"
      ]
     },
     "execution_count": 32,
     "metadata": {},
     "output_type": "execute_result"
    }
   ],
   "source": [
    "es.search(index=\"english\", body={\"from\":0, \"size\":0,\"query\":{\"regexp\":{\"sentence\":\".*\"}}})"
   ]
  },
  {
   "cell_type": "code",
   "execution_count": 33,
   "metadata": {},
   "outputs": [
    {
     "data": {
      "text/plain": [
       "{u'_shards': {u'failed': 0, u'skipped': 0, u'successful': 5, u'total': 5},\n",
       " u'hits': {u'hits': [{u'_id': u'2',\n",
       "    u'_index': u'english',\n",
       "    u'_score': 1.0,\n",
       "    u'_source': {u'sentence': u'Today is a bright-sunny day'},\n",
       "    u'_type': u'sentences'},\n",
       "   {u'_id': u'1',\n",
       "    u'_index': u'english',\n",
       "    u'_score': 1.0,\n",
       "    u'_source': {u'sentence': u'Today is a sunny day.'},\n",
       "    u'_type': u'sentences'},\n",
       "   {u'_id': u'3',\n",
       "    u'_index': u'english',\n",
       "    u'_score': 1.0,\n",
       "    u'_source': {u'sentence': u'Today is a rainy day.'},\n",
       "    u'_type': u'sentences'}],\n",
       "  u'max_score': 1.0,\n",
       "  u'total': 3},\n",
       " u'timed_out': False,\n",
       " u'took': 7}"
      ]
     },
     "execution_count": 33,
     "metadata": {},
     "output_type": "execute_result"
    }
   ],
   "source": [
    "es.search(index=\"english\", body={\"from\":0, \"size\":3,\"query\":{\"regexp\":{\"sentence\":\".*\"}}})"
   ]
  },
  {
   "cell_type": "code",
   "execution_count": 34,
   "metadata": {},
   "outputs": [
    {
     "data": {
      "text/plain": [
       "{u'_shards': {u'failed': 0, u'skipped': 0, u'successful': 5, u'total': 5},\n",
       " u'hits': {u'hits': [], u'max_score': 0.0, u'total': 2},\n",
       " u'timed_out': False,\n",
       " u'took': 6}"
      ]
     },
     "execution_count": 34,
     "metadata": {},
     "output_type": "execute_result"
    }
   ],
   "source": [
    "es.search(index=\"english\", body={\"from\":0, \"size\":0,\"query\":{\"regexp\":{\"sentence\":\"sun.*\"}}})"
   ]
  },
  {
   "cell_type": "code",
   "execution_count": 35,
   "metadata": {},
   "outputs": [
    {
     "data": {
      "text/plain": [
       "{u'_shards': {u'failed': 0, u'skipped': 0, u'successful': 5, u'total': 5},\n",
       " u'hits': {u'hits': [{u'_id': u'2',\n",
       "    u'_index': u'english',\n",
       "    u'_score': 1.0,\n",
       "    u'_source': {u'sentence': u'Today is a bright-sunny day'},\n",
       "    u'_type': u'sentences'},\n",
       "   {u'_id': u'1',\n",
       "    u'_index': u'english',\n",
       "    u'_score': 1.0,\n",
       "    u'_source': {u'sentence': u'Today is a sunny day.'},\n",
       "    u'_type': u'sentences'}],\n",
       "  u'max_score': 1.0,\n",
       "  u'total': 3},\n",
       " u'timed_out': False,\n",
       " u'took': 5}"
      ]
     },
     "execution_count": 35,
     "metadata": {},
     "output_type": "execute_result"
    }
   ],
   "source": [
    "es.search(index=\"english\", body={\"from\":0, \"size\":2,\"query\":{\"regexp\":{\"sentence\":\".*\"}}})"
   ]
  },
  {
   "cell_type": "code",
   "execution_count": null,
   "metadata": {},
   "outputs": [],
   "source": []
  }
 ],
 "metadata": {
  "kernelspec": {
   "display_name": "Python 2",
   "language": "python",
   "name": "python2"
  },
  "language_info": {
   "codemirror_mode": {
    "name": "ipython",
    "version": 2
   },
   "file_extension": ".py",
   "mimetype": "text/x-python",
   "name": "python",
   "nbconvert_exporter": "python",
   "pygments_lexer": "ipython2",
   "version": "2.7.10"
  }
 },
 "nbformat": 4,
 "nbformat_minor": 2
}
