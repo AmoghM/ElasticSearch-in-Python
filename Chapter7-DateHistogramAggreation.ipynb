{
 "cells": [
  {
   "cell_type": "markdown",
   "metadata": {},
   "source": [
    "# Date Histogram Aggregations\n",
    "\n",
    "Aggregations are one of the most important application of Elasticsearch. It provides you with quick powerful analysis of your data! Below we have discussed aggregations over date values.\n",
    "\n",
    "A lot of analysis happen on a time-series scales. For example: Quaterly sales of iphone across the world. Therefore it is essential to have an fast aggregation done over large dataset under different granular scales. ES provides such an aggregation via date histogram aggregation. The granularities over which you can do aggregations are:\n",
    "\n",
    "1. year\n",
    "2. quater\n",
    "3. month\n",
    "4. hour\n",
    "5. week\n",
    "6. day\n",
    "7. hour\n",
    "8. minute\n",
    "9. second\n",
    "10. milisecond\n",
    "\n",
    "For more info : https://www.elastic.co/guide/en/elasticsearch/reference/current/search-aggregations-bucket-datehistogram-aggregation.html"
   ]
  },
  {
   "cell_type": "code",
   "execution_count": 2,
   "metadata": {},
   "outputs": [],
   "source": [
    "from elasticsearch import Elasticsearch\n",
    "es = Elasticsearch('127.0.0.1:9200')"
   ]
  },
  {
   "cell_type": "code",
   "execution_count": 21,
   "metadata": {},
   "outputs": [],
   "source": [
    "doc1 = {\"city\":\"Bangalore\", \"country\":\"India\",\"datetime\":\"2018,01,01,10,20,00\"} #datetime format: yyyy,MM,dd,hh,mm,ss\n",
    "doc2 = {\"city\":\"London\", \"country\":\"England\",\"datetime\":\"2018,01,02,03,12,00\"}\n",
    "doc3 = {\"city\":\"Los Angeles\", \"country\":\"USA\",\"datetime\":\"2018,04,19,05,02,00\"}"
   ]
  },
  {
   "cell_type": "code",
   "execution_count": 32,
   "metadata": {},
   "outputs": [
    {
     "data": {
      "text/plain": [
       "{u'_id': u'3',\n",
       " u'_index': u'travel',\n",
       " u'_primary_term': 2,\n",
       " u'_seq_no': 2,\n",
       " u'_shards': {u'failed': 0, u'successful': 1, u'total': 2},\n",
       " u'_type': u'cities',\n",
       " u'_version': 3,\n",
       " u'result': u'updated'}"
      ]
     },
     "execution_count": 32,
     "metadata": {},
     "output_type": "execute_result"
    }
   ],
   "source": [
    "es.index(index=\"travel\", doc_type=\"cities\", id=1, body=doc1)\n",
    "es.index(index=\"travel\", doc_type=\"cities\", id=2, body=doc2)\n",
    "es.index(index=\"travel\", doc_type=\"cities\", id=3, body=doc3)"
   ]
  },
  {
   "cell_type": "code",
   "execution_count": 33,
   "metadata": {},
   "outputs": [
    {
     "data": {
      "text/plain": [
       "{u'travel': {u'mappings': {u'cities': {u'properties': {u'city': {u'fields': {u'keyword': {u'ignore_above': 256,\n",
       "        u'type': u'keyword'}},\n",
       "      u'type': u'text'},\n",
       "     u'country': {u'fields': {u'keyword': {u'ignore_above': 256,\n",
       "        u'type': u'keyword'}},\n",
       "      u'type': u'text'},\n",
       "     u'datetime': {u'format': u'yyyy,MM,dd,hh,mm,ss', u'type': u'date'}}}}}}"
      ]
     },
     "execution_count": 33,
     "metadata": {},
     "output_type": "execute_result"
    }
   ],
   "source": [
    "es.indices.get_mapping(index='travel', doc_type='cities') #POSTMAN: http://127.0.0.1:9200/travel/_mapping/cities"
   ]
  },
  {
   "cell_type": "code",
   "execution_count": 34,
   "metadata": {},
   "outputs": [
    {
     "data": {
      "text/plain": [
       "{u'_shards': {u'failed': 0, u'skipped': 0, u'successful': 5, u'total': 5},\n",
       " u'hits': {u'hits': [{u'_id': u'2',\n",
       "    u'_index': u'travel',\n",
       "    u'_score': 1.0,\n",
       "    u'_source': {u'city': u'London',\n",
       "     u'country': u'England',\n",
       "     u'datetime': u'2018,01,02,03,12,00'},\n",
       "    u'_type': u'cities'},\n",
       "   {u'_id': u'1',\n",
       "    u'_index': u'travel',\n",
       "    u'_score': 1.0,\n",
       "    u'_source': {u'city': u'Bangalore',\n",
       "     u'country': u'India',\n",
       "     u'datetime': u'2018,01,01,10,20,00'},\n",
       "    u'_type': u'cities'},\n",
       "   {u'_id': u'3',\n",
       "    u'_index': u'travel',\n",
       "    u'_score': 1.0,\n",
       "    u'_source': {u'city': u'Los Angeles',\n",
       "     u'country': u'USA',\n",
       "     u'datetime': u'2018,04,19,05,02,00'},\n",
       "    u'_type': u'cities'}],\n",
       "  u'max_score': 1.0,\n",
       "  u'total': 3},\n",
       " u'timed_out': False,\n",
       " u'took': 2}"
      ]
     },
     "execution_count": 34,
     "metadata": {},
     "output_type": "execute_result"
    }
   ],
   "source": [
    "es.search(index=\"travel\",\n",
    "              body={\"from\": 0, \"size\": 5, \"query\": {\"match_all\": {}}})"
   ]
  },
  {
   "cell_type": "code",
   "execution_count": 35,
   "metadata": {},
   "outputs": [
    {
     "data": {
      "text/plain": [
       "{u'_shards': {u'failed': 0, u'skipped': 0, u'successful': 5, u'total': 5},\n",
       " u'aggregations': {u'country': {u'buckets': [{u'doc_count': 3,\n",
       "     u'key': 1514764800000,\n",
       "     u'key_as_string': u'2018,01,01,12,00,00'}]}},\n",
       " u'hits': {u'hits': [], u'max_score': 0.0, u'total': 3},\n",
       " u'timed_out': False,\n",
       " u'took': 5}"
      ]
     },
     "execution_count": 35,
     "metadata": {},
     "output_type": "execute_result"
    }
   ],
   "source": [
    "es.search(index=\"travel\",\n",
    "              body={\"from\": 0, \"size\": 0, \"query\": {\"match_all\": {}}, \"aggs\": {\n",
    "                  \"country\": {\n",
    "                      \"date_histogram\": {\"field\": \"datetime\", \"interval\": \"year\"}}}})"
   ]
  },
  {
   "cell_type": "code",
   "execution_count": 36,
   "metadata": {},
   "outputs": [
    {
     "data": {
      "text/plain": [
       "{u'_id': u'4',\n",
       " u'_index': u'travel',\n",
       " u'_primary_term': 2,\n",
       " u'_seq_no': 4,\n",
       " u'_shards': {u'failed': 0, u'successful': 1, u'total': 2},\n",
       " u'_type': u'cities',\n",
       " u'_version': 1,\n",
       " u'result': u'created'}"
      ]
     },
     "execution_count": 36,
     "metadata": {},
     "output_type": "execute_result"
    }
   ],
   "source": [
    "doc4 = {\"city\":\"Sydney\", \"country\":\"Australia\",\"datetime\":\"2019,01,01,10,20,00\"}\n",
    "es.index(index=\"travel\", doc_type=\"cities\", id=4, body=doc4)"
   ]
  },
  {
   "cell_type": "code",
   "execution_count": 41,
   "metadata": {},
   "outputs": [
    {
     "data": {
      "text/plain": [
       "{u'_shards': {u'failed': 0, u'skipped': 0, u'successful': 5, u'total': 5},\n",
       " u'aggregations': {u'country': {u'buckets': [{u'doc_count': 3,\n",
       "     u'key': 1514764800000,\n",
       "     u'key_as_string': u'2018,01,01,12,00,00'},\n",
       "    {u'doc_count': 1,\n",
       "     u'key': 1546300800000,\n",
       "     u'key_as_string': u'2019,01,01,12,00,00'}]}},\n",
       " u'hits': {u'hits': [], u'max_score': 0.0, u'total': 4},\n",
       " u'timed_out': False,\n",
       " u'took': 2}"
      ]
     },
     "execution_count": 41,
     "metadata": {},
     "output_type": "execute_result"
    }
   ],
   "source": [
    "es.search(index=\"travel\",\n",
    "              body={\"from\": 0, \"size\": 0, \"query\": {\"match_all\": {}}, \"aggs\": {\n",
    "                  \"country\": {\n",
    "                      \"date_histogram\": {\"field\": \"datetime\", \"interval\": \"year\"}}}})"
   ]
  },
  {
   "cell_type": "code",
   "execution_count": null,
   "metadata": {},
   "outputs": [],
   "source": []
  }
 ],
 "metadata": {
  "kernelspec": {
   "display_name": "Python 2",
   "language": "python",
   "name": "python2"
  },
  "language_info": {
   "codemirror_mode": {
    "name": "ipython",
    "version": 2
   },
   "file_extension": ".py",
   "mimetype": "text/x-python",
   "name": "python",
   "nbconvert_exporter": "python",
   "pygments_lexer": "ipython2",
   "version": "2.7.10"
  }
 },
 "nbformat": 4,
 "nbformat_minor": 2
}
